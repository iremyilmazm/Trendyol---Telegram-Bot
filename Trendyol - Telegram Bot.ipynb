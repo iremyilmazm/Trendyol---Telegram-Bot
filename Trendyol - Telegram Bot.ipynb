{
 "cells": [
  {
   "cell_type": "code",
   "execution_count": 1,
   "id": "d4760429",
   "metadata": {},
   "outputs": [
    {
     "name": "stdout",
     "output_type": "stream",
     "text": [
      "Requirement already satisfied: requests in c:\\users\\iremm\\anaconda3\\lib\\site-packages (2.27.1)\n",
      "Requirement already satisfied: bs4 in c:\\users\\iremm\\anaconda3\\lib\\site-packages (0.0.1)\n",
      "Requirement already satisfied: idna<4,>=2.5 in c:\\users\\iremm\\anaconda3\\lib\\site-packages (from requests) (3.3)\n",
      "Requirement already satisfied: charset-normalizer~=2.0.0 in c:\\users\\iremm\\anaconda3\\lib\\site-packages (from requests) (2.0.4)\n",
      "Requirement already satisfied: urllib3<1.27,>=1.21.1 in c:\\users\\iremm\\anaconda3\\lib\\site-packages (from requests) (1.26.9)\n",
      "Requirement already satisfied: certifi>=2017.4.17 in c:\\users\\iremm\\anaconda3\\lib\\site-packages (from requests) (2021.10.8)\n",
      "Requirement already satisfied: beautifulsoup4 in c:\\users\\iremm\\anaconda3\\lib\\site-packages (from bs4) (4.11.1)\n",
      "Requirement already satisfied: soupsieve>1.2 in c:\\users\\iremm\\anaconda3\\lib\\site-packages (from beautifulsoup4->bs4) (2.3.1)\n"
     ]
    }
   ],
   "source": [
    "!pip install requests bs4"
   ]
  },
  {
   "cell_type": "code",
   "execution_count": 15,
   "id": "2b861b80",
   "metadata": {},
   "outputs": [],
   "source": [
    "import requests\n",
    "from bs4 import BeautifulSoup"
   ]
  },
  {
   "cell_type": "code",
   "execution_count": 16,
   "id": "e16d2e58",
   "metadata": {},
   "outputs": [
    {
     "name": "stdout",
     "output_type": "stream",
     "text": [
      "21,99 €\n"
     ]
    }
   ],
   "source": [
    "url = \"https://www.trendyol.com/en/trendyol-collection/jeans-blue-mom-p-76148213?boutiqueId=615150&merchantId=968\"\n",
    "\n",
    "page = requests.get(url)\n",
    "\n",
    "html_page = BeautifulSoup(page.content, \"html.parser\")\n",
    "\n",
    "productTitle = html_page.find(\"h1\", class_=\"brand\").getText()\n",
    "\n",
    "productTitle\n",
    "\n",
    "price = html_page.find(\"div\", class_=\"pdp-price sellingPrice\").getText()\n",
    "print(price)"
   ]
  },
  {
   "cell_type": "code",
   "execution_count": 17,
   "id": "7058052e",
   "metadata": {},
   "outputs": [],
   "source": [
    "import time"
   ]
  },
  {
   "cell_type": "code",
   "execution_count": 19,
   "id": "7c1e0b08",
   "metadata": {},
   "outputs": [
    {
     "data": {
      "text/plain": [
       "'Trendyol Collection Jeans - Blue - Mom  is 21,99 €'"
      ]
     },
     "execution_count": 19,
     "metadata": {},
     "output_type": "execute_result"
    }
   ],
   "source": [
    "api = \"https://api.telegram.org/botxxxxx:AAHZg1LGHLZ33cCzMB9LSOgYPLyv7OeZa3c/SendMessage\"\n",
    "\n",
    "message = productTitle + \" is \" + price\n",
    "\n",
    "message"
   ]
  },
  {
   "cell_type": "code",
   "execution_count": null,
   "id": "71a70ff0",
   "metadata": {},
   "outputs": [],
   "source": [
    "requests.post(url=api, data={\"chat_id\":\"xxxx\",\"text\":message}).json()"
   ]
  }
 ],
 "metadata": {
  "kernelspec": {
   "display_name": "Python 3 (ipykernel)",
   "language": "python",
   "name": "python3"
  },
  "language_info": {
   "codemirror_mode": {
    "name": "ipython",
    "version": 3
   },
   "file_extension": ".py",
   "mimetype": "text/x-python",
   "name": "python",
   "nbconvert_exporter": "python",
   "pygments_lexer": "ipython3",
   "version": "3.9.12"
  }
 },
 "nbformat": 4,
 "nbformat_minor": 5
}

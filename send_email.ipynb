{
 "cells": [
  {
   "cell_type": "code",
   "execution_count": 13,
   "id": "55e87d3e",
   "metadata": {},
   "outputs": [],
   "source": [
    "import smtplib\n",
    "from email.mime.multipart import MIMEMultipart\n",
    "from email.mime.text import MIMEText"
   ]
  },
  {
   "cell_type": "code",
   "execution_count": 14,
   "id": "68595276",
   "metadata": {},
   "outputs": [],
   "source": [
    "def sendMail(toMail, subject, content):\n",
    "    \n",
    "    fromMail = \"mail@gmail.com\"\n",
    "    server = smtplib.SMTP(\"smtp.gmail.com\", 587)\n",
    "    \n",
    "    server.starttls()\n",
    "    \n",
    "    server.login(fromMail, \"password\")\n",
    "    \n",
    "    message = MIMEMultipart('alternative')\n",
    "    message['Subject'] = subject\n",
    "    \n",
    "    htmlContent = MIMEText(content, 'html')\n",
    "    message.attach(htmlContent)\n",
    "    \n",
    "    server.sendmail(\n",
    "        fromMail,\n",
    "        toMail,\n",
    "        message.as_string())\n",
    "\n",
    "    server.quit()"
   ]
  }
 ],
 "metadata": {
  "kernelspec": {
   "display_name": "Python 3 (ipykernel)",
   "language": "python",
   "name": "python3"
  },
  "language_info": {
   "codemirror_mode": {
    "name": "ipython",
    "version": 3
   },
   "file_extension": ".py",
   "mimetype": "text/x-python",
   "name": "python",
   "nbconvert_exporter": "python",
   "pygments_lexer": "ipython3",
   "version": "3.9.12"
  }
 },
 "nbformat": 4,
 "nbformat_minor": 5
}
